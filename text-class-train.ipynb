{
 "cells": [
  {
   "cell_type": "code",
   "execution_count": 1,
   "id": "bee4a443",
   "metadata": {},
   "outputs": [
    {
     "name": "stdout",
     "output_type": "stream",
     "text": [
      "Collecting ml_datasets\n",
      "  Downloading ml_datasets-0.2.0-py3-none-any.whl (15 kB)\n",
      "Requirement already satisfied: srsly<3.0.0,>=1.0.1 in /Users/danmengcai/opt/anaconda3/envs/newPy/lib/python3.8/site-packages (from ml_datasets) (2.4.4)\n",
      "Requirement already satisfied: catalogue<3.0.0,>=0.2.0 in /Users/danmengcai/opt/anaconda3/envs/newPy/lib/python3.8/site-packages (from ml_datasets) (2.0.8)\n",
      "Requirement already satisfied: numpy>=1.7.0 in /Users/danmengcai/opt/anaconda3/envs/newPy/lib/python3.8/site-packages (from ml_datasets) (1.23.2)\n",
      "Requirement already satisfied: tqdm<5.0.0,>=4.10.0 in /Users/danmengcai/.local/lib/python3.8/site-packages (from ml_datasets) (4.64.1)\n",
      "Installing collected packages: ml_datasets\n",
      "Successfully installed ml_datasets-0.2.0\n",
      "Note: you may need to restart the kernel to use updated packages.\n"
     ]
    }
   ],
   "source": [
    "%pip install ml_datasets"
   ]
  },
  {
   "cell_type": "code",
   "execution_count": 2,
   "id": "2c9d24ad",
   "metadata": {},
   "outputs": [],
   "source": [
    "from spacy.tokens import DocBin\n",
    "from ml_datasets import imdb\n",
    "import spacy"
   ]
  },
  {
   "cell_type": "code",
   "execution_count": 3,
   "id": "d8741c53",
   "metadata": {},
   "outputs": [
    {
     "name": "stderr",
     "output_type": "stream",
     "text": [
      "84131840it [06:03, 231382.96it/s]                                               \n"
     ]
    },
    {
     "name": "stdout",
     "output_type": "stream",
     "text": [
      "Untaring file...\n"
     ]
    }
   ],
   "source": [
    "train_data, valid_data=imdb()"
   ]
  },
  {
   "cell_type": "code",
   "execution_count": 4,
   "id": "af47d4cf",
   "metadata": {},
   "outputs": [
    {
     "name": "stdout",
     "output_type": "stream",
     "text": [
      "('Loosely intended as a satire of D.W. Griffith\\'s Intolerance, The Three Ages was Buster Keaton\\'s first attempt at a full length comedy feature. The only similarities to Intolerance are the opening \"book\" scene and the fact that similar stories through the ages are edited together into a complete film. Keaton\\'s reasoning for appropriating this style was that if it didn\\'t succeed as a feature film, it could be reduced to three two-reelers. Fortunately, The Three Ages succeeds brilliantly as a comedy and contains some of the funniest routines I\\'ve seen in any of Keaton\\'s film. There is nothing unique or daring about the story lines. They are simple boy-meets-girl, boy-loses-girl, boy-gets-girl plots, but the period satires are riotous and set the standard for future works by Mel Brooks and all films of this genre. However, I don\\'t believe that anyone has ever topped this comedy. No one can play the lovable goof like Keaton and the stunts in this film are some of his best. In addition, Wallace Beery\\'s appearance as Keaton\\'s rival adds to this film\\'s appeal. Anyone who thinks that comedy from the 1920\\'s cannot be appreciated by modern audiences needs to see this movie.', 'pos')\n"
     ]
    }
   ],
   "source": [
    "print (train_data[0])"
   ]
  },
  {
   "cell_type": "code",
   "execution_count": 5,
   "id": "ed7bf736",
   "metadata": {},
   "outputs": [],
   "source": [
    "def make_docs(data):\n",
    "    docs = []\n",
    "    for doc, label in nlp.pipe(data, as_tuples=True):\n",
    "        if label == \"neg\":\n",
    "            doc.cats[\"positive\"] = 0\n",
    "            doc.cats[\"negative\"] = 1\n",
    "        else:\n",
    "            doc.cats[\"positive\"] = 1\n",
    "            doc.cats[\"negative\"] = 0\n",
    "        docs.append(doc)\n",
    "    return (docs)"
   ]
  },
  {
   "cell_type": "code",
   "execution_count": 6,
   "id": "9e0cae88",
   "metadata": {},
   "outputs": [],
   "source": [
    "nlp = spacy.load(\"en_core_web_sm\")"
   ]
  },
  {
   "cell_type": "code",
   "execution_count": 7,
   "id": "06d81abf",
   "metadata": {},
   "outputs": [],
   "source": [
    "num_texts = 500\n",
    "\n",
    "train_docs = make_docs(train_data[:num_texts])\n",
    "doc_bin = DocBin(docs=train_docs)\n",
    "doc_bin.to_disk(\"./data/train.spacy\")\n",
    "\n",
    "valid_docs = make_docs(valid_data[:num_texts])\n",
    "doc_bin = DocBin(docs=valid_docs)\n",
    "doc_bin.to_disk(\"./data/valid.spacy\")"
   ]
  },
  {
   "cell_type": "code",
   "execution_count": 8,
   "id": "c046541c",
   "metadata": {},
   "outputs": [],
   "source": [
    "import os "
   ]
  },
  {
   "cell_type": "code",
   "execution_count": 9,
   "id": "10e425ca",
   "metadata": {},
   "outputs": [
    {
     "data": {
      "text/plain": [
       "b'/Users/danmengcai/Desktop/Folders/PyPractice/text-classification'"
      ]
     },
     "execution_count": 9,
     "metadata": {},
     "output_type": "execute_result"
    }
   ],
   "source": [
    "os.getcwdb()"
   ]
  },
  {
   "cell_type": "code",
   "execution_count": 10,
   "id": "79183888",
   "metadata": {},
   "outputs": [
    {
     "name": "stdout",
     "output_type": "stream",
     "text": [
      "\u001b[38;5;2m✔ Auto-filled config with all values\u001b[0m\r\n",
      "\u001b[38;5;2m✔ Saved config\u001b[0m\r\n",
      "config.cfg\r\n",
      "You can now add your data and train your pipeline:\r\n",
      "python -m spacy train config.cfg --paths.train ./train.spacy --paths.dev ./dev.spacy\r\n"
     ]
    }
   ],
   "source": [
    "!python -m spacy init fill-config base_config.cfg config.cfg"
   ]
  },
  {
   "cell_type": "code",
   "execution_count": 11,
   "id": "8f227e3a",
   "metadata": {},
   "outputs": [
    {
     "name": "stdout",
     "output_type": "stream",
     "text": [
      "\u001b[38;5;4mℹ Saving to output directory: output\u001b[0m\n",
      "\u001b[38;5;4mℹ Using CPU\u001b[0m\n",
      "\u001b[1m\n",
      "=========================== Initializing pipeline ===========================\u001b[0m\n",
      "[2022-09-24 17:26:24,877] [INFO] Set up nlp object from config\n",
      "[2022-09-24 17:26:24,896] [INFO] Pipeline: ['textcat_multilabel']\n",
      "[2022-09-24 17:26:24,903] [INFO] Created vocabulary\n",
      "[2022-09-24 17:26:24,905] [INFO] Finished initializing nlp object\n",
      "[2022-09-24 17:26:27,303] [INFO] Initialized pipeline components: ['textcat_multilabel']\n",
      "\u001b[38;5;2m✔ Initialized pipeline\u001b[0m\n",
      "\u001b[1m\n",
      "============================= Training pipeline =============================\u001b[0m\n",
      "\u001b[38;5;4mℹ Pipeline: ['textcat_multilabel']\u001b[0m\n",
      "\u001b[38;5;4mℹ Initial learn rate: 0.001\u001b[0m\n",
      "E    #       LOSS TEXTC...  CATS_SCORE  SCORE \n",
      "---  ------  -------------  ----------  ------\n",
      "  0       0           0.25       49.16    0.49\n",
      "  0     200          47.79       78.67    0.79\n",
      "  0     400          42.73       81.33    0.81\n",
      "  1     600          19.57       82.92    0.83\n",
      "  1     800           6.55       84.50    0.84\n",
      "  2    1000           6.73       84.05    0.84\n",
      "  2    1200           1.79       83.98    0.84\n",
      "  2    1400           1.32       84.11    0.84\n",
      "  3    1600           0.98       83.97    0.84\n",
      "  3    1800           0.34       84.18    0.84\n",
      "  4    2000           0.43       83.39    0.83\n",
      "  4    2200           0.17       84.00    0.84\n",
      "  4    2400           0.18       83.97    0.84\n",
      "\u001b[38;5;2m✔ Saved pipeline to output directory\u001b[0m\n",
      "output/model-last\n"
     ]
    }
   ],
   "source": [
    "!python -m spacy train config.cfg --output ./output"
   ]
  },
  {
   "cell_type": "code",
   "execution_count": null,
   "id": "cd067206",
   "metadata": {},
   "outputs": [],
   "source": []
  }
 ],
 "metadata": {
  "kernelspec": {
   "display_name": "Python 3 (ipykernel)",
   "language": "python",
   "name": "python3"
  },
  "language_info": {
   "codemirror_mode": {
    "name": "ipython",
    "version": 3
   },
   "file_extension": ".py",
   "mimetype": "text/x-python",
   "name": "python",
   "nbconvert_exporter": "python",
   "pygments_lexer": "ipython3",
   "version": "3.8.13"
  }
 },
 "nbformat": 4,
 "nbformat_minor": 5
}
