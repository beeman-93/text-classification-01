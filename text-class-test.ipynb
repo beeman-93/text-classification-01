{
 "cells": [
  {
   "cell_type": "code",
   "execution_count": 1,
   "id": "0ecc6947",
   "metadata": {},
   "outputs": [],
   "source": [
    "import spacy\n",
    "from ml_datasets import imdb"
   ]
  },
  {
   "cell_type": "code",
   "execution_count": 13,
   "id": "0238db6a",
   "metadata": {},
   "outputs": [],
   "source": [
    "train_data, valid_data = imdb()"
   ]
  },
  {
   "cell_type": "code",
   "execution_count": 24,
   "id": "d36f46de",
   "metadata": {},
   "outputs": [],
   "source": [
    "text = train_data[2100]"
   ]
  },
  {
   "cell_type": "code",
   "execution_count": 25,
   "id": "439874c0",
   "metadata": {},
   "outputs": [],
   "source": [
    "nlp = spacy.load(\"output/model-best\")"
   ]
  },
  {
   "cell_type": "code",
   "execution_count": 26,
   "id": "99353214",
   "metadata": {},
   "outputs": [],
   "source": [
    "doc = nlp(text[0])"
   ]
  },
  {
   "cell_type": "code",
   "execution_count": 27,
   "id": "17c68bb4",
   "metadata": {},
   "outputs": [
    {
     "name": "stdout",
     "output_type": "stream",
     "text": [
      "{'positive': 0.3760104477405548, 'negative': 0.6075398921966553}\n"
     ]
    }
   ],
   "source": [
    "print (doc.cats)"
   ]
  },
  {
   "cell_type": "code",
   "execution_count": 28,
   "id": "e0c20806",
   "metadata": {},
   "outputs": [
    {
     "name": "stdout",
     "output_type": "stream",
     "text": [
      "('The main character Lance Barton gets killed and to heaven before his time. When heaven learns about the mistake he is given the body of just deceased rich old and white Mr. Wellington.\\n\\n\\n\\nA young black guy in a old white mans body still behaving like the young black man is maybe funny if you see it done by an old white actor. In this movie I ended up reminding myself several times: \"Chris Rock is supposed to be an old white guy\".\\n\\n\\n\\nThe whole concept does not play as intended: The \"illusion\" is not transported well and the love story is not believable at all. The fact that all you see is Chris Rock playing a young black guy, because the old white person everyone is supposed to see is only shown in small scenes, is to much of a challenge for the viewers \"suspension of disbelief\".', 'neg')\n"
     ]
    }
   ],
   "source": [
    "print (text)"
   ]
  },
  {
   "cell_type": "code",
   "execution_count": null,
   "id": "faec4148",
   "metadata": {},
   "outputs": [],
   "source": []
  }
 ],
 "metadata": {
  "kernelspec": {
   "display_name": "Python 3 (ipykernel)",
   "language": "python",
   "name": "python3"
  },
  "language_info": {
   "codemirror_mode": {
    "name": "ipython",
    "version": 3
   },
   "file_extension": ".py",
   "mimetype": "text/x-python",
   "name": "python",
   "nbconvert_exporter": "python",
   "pygments_lexer": "ipython3",
   "version": "3.8.13"
  }
 },
 "nbformat": 4,
 "nbformat_minor": 5
}
